{
  "cells": [
    {
      "cell_type": "markdown",
      "metadata": {
        "colab_type": "text",
        "id": "UkPlf4S9Feog"
      },
      "source": [
        "# Clone repo"
      ]
    },
    {
      "cell_type": "code",
      "execution_count": 1,
      "metadata": {
        "colab": {
          "base_uri": "https://localhost:8080/",
          "height": 136
        },
        "colab_type": "code",
        "id": "L5d6fOSAFgkl",
        "outputId": "89b34a55-08b6-4d00-ea4e-8847005944ef"
      },
      "outputs": [
        {
          "name": "stdout",
          "output_type": "stream",
          "text": [
            "Cloning into 'Seq2Seq-Machine-Translation'...\n",
            "remote: Enumerating objects: 101, done.\u001b[K\n",
            "remote: Counting objects: 100% (101/101), done.\u001b[K\n",
            "remote: Compressing objects: 100% (75/75), done.\u001b[K\n",
            "remote: Total 101 (delta 51), reused 63 (delta 21), pack-reused 0\u001b[K\n",
            "Receiving objects: 100% (101/101), 56.26 MiB | 29.48 MiB/s, done.\n",
            "Resolving deltas: 100% (51/51), done.\n"
          ]
        }
      ],
      "source": [
        "!git clone https://github.com/AmosMaru/kiswahili-kikuyu.git"
      ]
    },
    {
      "cell_type": "markdown",
      "metadata": {
        "colab_type": "text",
        "id": "l5mAR8TqFjhR"
      },
      "source": [
        "# Change Directory"
      ]
    },
    {
      "cell_type": "code",
      "execution_count": null,
      "metadata": {
        "colab": {},
        "colab_type": "code",
        "id": "riKaZG9RFicj"
      },
      "outputs": [],
      "source": [
        "import os \n",
        "os.chdir('/content/kiswahili-kikuyu')"
      ]
    },
    {
      "cell_type": "markdown",
      "metadata": {
        "colab_type": "text",
        "id": "vbSeyS1uFtMn"
      },
      "source": [
        "# Train the model"
      ]
    },
    {
      "cell_type": "code",
      "execution_count": 4,
      "metadata": {
        "colab": {
          "base_uri": "https://localhost:8080/",
          "height": 170
        },
        "colab_type": "code",
        "id": "R-oDmq-ZFo9n",
        "outputId": "c80d1982-92ee-439a-db6e-b4364c363236"
      },
      "outputs": [
        {
          "name": "stdout",
          "output_type": "stream",
          "text": [
            "135842 translation pairs found in dataset.\n",
            "Reduced dataset to 135690 translation pairs.\n",
            "No of words in each language:\n",
            "eng 12996\n",
            "fra 21267\n",
            "Starting Training Loop...\n",
            "3m 42s (- 7m 24s) (5000 33%) 5.0802\n",
            "7m 38s (- 3m 49s) (10000 66%) 4.9499\n",
            "11m 45s (- 0m 0s) (15000 100%) 4.9172\n"
          ]
        }
      ],
      "source": [
        "!python train.py --epoch=15000 --lr=0.001"
      ]
    },
    {
      "cell_type": "markdown",
      "metadata": {
        "colab_type": "text",
        "id": "7eP2DwWKF8bE"
      },
      "source": [
        "# Translate using trained model"
      ]
    },
    {
      "cell_type": "code",
      "execution_count": 5,
      "metadata": {
        "colab": {
          "base_uri": "https://localhost:8080/",
          "height": 136
        },
        "colab_type": "code",
        "id": "QO2AJV-sFyGv",
        "outputId": "d43e9b87-24e5-4ab4-b606-a9717e52ec87"
      },
      "outputs": [
        {
          "name": "stdout",
          "output_type": "stream",
          "text": [
            "135842 translation pairs found in dataset.\n",
            "Reduced dataset to 135690 translation pairs.\n",
            "No of words in each language:\n",
            "eng 12996\n",
            "fra 21267\n",
            "input = i am hungry !\n",
            "output = je ne a la . <EOS>\n"
          ]
        }
      ],
      "source": [
        "!python translate.py --translate_sentence='Mungu wangu'"
      ]
    },
    {
      "cell_type": "code",
      "execution_count": 6,
      "metadata": {
        "colab": {
          "base_uri": "https://localhost:8080/",
          "height": 136
        },
        "colab_type": "code",
        "id": "8hplZLULIpbl",
        "outputId": "38d060d6-b37e-4e03-8432-50567d98041f"
      },
      "outputs": [
        {
          "name": "stdout",
          "output_type": "stream",
          "text": [
            "135842 translation pairs found in dataset.\n",
            "Reduced dataset to 135690 translation pairs.\n",
            "No of words in each language:\n",
            "eng 12996\n",
            "fra 21267\n",
            "input = this is my sister !\n",
            "output = je ne que vous vous pas <EOS>\n"
          ]
        }
      ],
      "source": [
        "!python translate.py --translate_sentence='Mama fanya kazi'"
      ]
    },
    {
      "cell_type": "markdown",
      "metadata": {
        "colab_type": "text",
        "id": "VUaODl9aIdiK"
      },
      "source": [
        "# Things to add\n",
        "\n",
        "- Validation can be easily added\n",
        "- More training\n",
        "- much bigger dataset\n",
        "- Flask server for translating"
      ]
    }
  ],
  "metadata": {
    "accelerator": "GPU",
    "colab": {
      "collapsed_sections": [],
      "name": "seq2seq machine translation DEMO.ipynb",
      "provenance": [],
      "version": "0.3.2"
    },
    "kernelspec": {
      "display_name": "Python 3",
      "name": "python3"
    }
  },
  "nbformat": 4,
  "nbformat_minor": 0
}
